{
 "cells": [
  {
   "cell_type": "code",
   "execution_count": 33,
   "metadata": {},
   "outputs": [],
   "source": [
    "import pandas as pd\n",
    "import glob\n",
    "import numpy as np\n",
    "import matplotlib.pyplot as plt\n",
    "\n",
    "import tensorflow as tf\n",
    "from tensorflow import keras\n",
    "from keras.preprocessing.image import ImageDataGenerator"
   ]
  },
  {
   "cell_type": "code",
   "execution_count": 34,
   "metadata": {},
   "outputs": [
    {
     "name": "stdout",
     "output_type": "stream",
     "text": [
      "Number of images in the dataset: 7390\n"
     ]
    }
   ],
   "source": [
    "print('Number of images in the dataset: {}'.format(len(glob.glob('images/*.jpg'))))"
   ]
  },
  {
   "cell_type": "code",
   "execution_count": 35,
   "metadata": {},
   "outputs": [
    {
     "name": "stdout",
     "output_type": "stream",
     "text": [
      "There are 2400 cat images\n",
      "There are 4990 dog images\n"
     ]
    }
   ],
   "source": [
    "CATS = ['Abyssinian', 'Bengal', 'Birman', 'Bombay', 'British_Shorthair', 'Egyptian_Mau', 'Maine_Coon', 'Persian', 'Ragdoll', 'Russian_Blue', 'Siamese', 'Sphynx']\n",
    "cats_images = []\n",
    "dogs_images = []\n",
    "\n",
    "for img in glob.glob('images/*.jpg'):\n",
    "    if any(cat in img for cat in CATS):\n",
    "        cats_images.append(img)\n",
    "    else:\n",
    "        dogs_images.append(img)\n",
    "        \n",
    "print(f\"There are {len(cats_images)} cat images\")\n",
    "print(f\"There are {len(dogs_images)} dog images\")"
   ]
  },
  {
   "cell_type": "code",
   "execution_count": 36,
   "metadata": {},
   "outputs": [],
   "source": [
    "from cProfile import label\n",
    "from cgi import test\n",
    "\n",
    "\n",
    "np.random.shuffle(cats_images)\n",
    "np.random.shuffle(dogs_images)\n",
    "\n",
    "train_d, val_d, test_d = np.split(dogs_images, [int(len(dogs_images)*0.7), int(len(dogs_images)*0.8)])\n",
    "train_c, val_c, test_c =np.split(cats_images, [int(len(cats_images)*0.7), int(len(cats_images)*0.8)])\n"
   ]
  },
  {
   "cell_type": "code",
   "execution_count": 37,
   "metadata": {},
   "outputs": [
    {
     "data": {
      "text/html": [
       "<div>\n",
       "<style scoped>\n",
       "    .dataframe tbody tr th:only-of-type {\n",
       "        vertical-align: middle;\n",
       "    }\n",
       "\n",
       "    .dataframe tbody tr th {\n",
       "        vertical-align: top;\n",
       "    }\n",
       "\n",
       "    .dataframe thead th {\n",
       "        text-align: right;\n",
       "    }\n",
       "</style>\n",
       "<table border=\"1\" class=\"dataframe\">\n",
       "  <thead>\n",
       "    <tr style=\"text-align: right;\">\n",
       "      <th></th>\n",
       "      <th>image</th>\n",
       "      <th>label</th>\n",
       "    </tr>\n",
       "  </thead>\n",
       "  <tbody>\n",
       "    <tr>\n",
       "      <th>0</th>\n",
       "      <td>images\\scottish_terrier_180.jpg</td>\n",
       "      <td>dog</td>\n",
       "    </tr>\n",
       "    <tr>\n",
       "      <th>1</th>\n",
       "      <td>images\\leonberger_30.jpg</td>\n",
       "      <td>dog</td>\n",
       "    </tr>\n",
       "    <tr>\n",
       "      <th>2</th>\n",
       "      <td>images\\german_shorthaired_160.jpg</td>\n",
       "      <td>dog</td>\n",
       "    </tr>\n",
       "    <tr>\n",
       "      <th>3</th>\n",
       "      <td>images\\basset_hound_36.jpg</td>\n",
       "      <td>dog</td>\n",
       "    </tr>\n",
       "    <tr>\n",
       "      <th>4</th>\n",
       "      <td>images\\beagle_66.jpg</td>\n",
       "      <td>dog</td>\n",
       "    </tr>\n",
       "  </tbody>\n",
       "</table>\n",
       "</div>"
      ],
      "text/plain": [
       "                               image label\n",
       "0    images\\scottish_terrier_180.jpg   dog\n",
       "1           images\\leonberger_30.jpg   dog\n",
       "2  images\\german_shorthaired_160.jpg   dog\n",
       "3         images\\basset_hound_36.jpg   dog\n",
       "4               images\\beagle_66.jpg   dog"
      ]
     },
     "execution_count": 37,
     "metadata": {},
     "output_type": "execute_result"
    }
   ],
   "source": [
    "train_dog_df = pd.DataFrame({'image': train_d, 'label': 'dog'})\n",
    "val_dog_df = pd.DataFrame({'image': val_d, 'label': 'dog'})\n",
    "test_dog_df = pd.DataFrame({'image': test_d, 'label': 'dog'})\n",
    "\n",
    "train_cat_df =pd.DataFrame({'image': train_c, 'label': 'cat'})\n",
    "val_cat_df = pd.DataFrame({'image': val_c, 'label': 'cat'})\n",
    "test_cat_df = pd.DataFrame({'image': test_c, 'label': 'cat'})\n",
    "\n",
    "test_dog_df.head()"
   ]
  },
  {
   "cell_type": "code",
   "execution_count": 38,
   "metadata": {},
   "outputs": [
    {
     "name": "stdout",
     "output_type": "stream",
     "text": [
      "5173 images for training\n",
      "1478 images for testing\n",
      "739 images for validation\n"
     ]
    }
   ],
   "source": [
    "train_df = pd.concat([train_dog_df, train_cat_df])\n",
    "val_df = pd.concat([val_dog_df, val_cat_df])\n",
    "test_df = pd.concat([test_dog_df, test_cat_df])\n",
    "\n",
    "print(f\"{len(train_df)} images for training\")\n",
    "print(f\"{len(test_df)} images for testing\")\n",
    "print(f\"{len(val_df)} images for validation\")"
   ]
  },
  {
   "cell_type": "code",
   "execution_count": 39,
   "metadata": {},
   "outputs": [
    {
     "name": "stdout",
     "output_type": "stream",
     "text": [
      "Found 5173 validated image filenames belonging to 2 classes.\n",
      "Found 739 validated image filenames belonging to 2 classes.\n",
      "Found 1478 validated image filenames belonging to 2 classes.\n"
     ]
    }
   ],
   "source": [
    "BATCH_SIZE = 32\n",
    "IMG_HEIGHT = 224\n",
    "IMG_WIDTH = 224\n",
    "\n",
    "trainGenerator = ImageDataGenerator(rescale=1./225.)\n",
    "valGenerator = ImageDataGenerator(rescale=1./225.)\n",
    "testGenerator = ImageDataGenerator(rescale=1./225.)\n",
    "\n",
    "trainDataset = trainGenerator.flow_from_dataframe(\n",
    "    dataframe=train_df,\n",
    "    class_mode=\"binary\",\n",
    "    x_col=\"image\",\n",
    "    y_col=\"label\",\n",
    "    batch_size=BATCH_SIZE,\n",
    "    seed=42,\n",
    "    shuffle=True,\n",
    "    target_size=(IMG_HEIGHT, IMG_WIDTH)\n",
    ")\n",
    "\n",
    "valDataset = valGenerator.flow_from_dataframe(\n",
    "    dataframe=val_df,\n",
    "    class_mode=\"binary\",\n",
    "    x_col=\"image\",\n",
    "    y_col=\"label\",\n",
    "    batch_size=BATCH_SIZE,\n",
    "    seed=42,\n",
    "    shuffle=True,\n",
    "    target_size=(IMG_HEIGHT, IMG_WIDTH)\n",
    ")\n",
    "    \n",
    "testDataset = testGenerator.flow_from_dataframe(\n",
    "    dataframe=test_df,\n",
    "    class_mode=\"binary\",\n",
    "    x_col=\"image\",\n",
    "    y_col=\"label\",\n",
    "    batch_size=BATCH_SIZE,\n",
    "    seed=42,\n",
    "    shuffle=True,\n",
    "    target_size=(IMG_HEIGHT, IMG_WIDTH)\n",
    ")"
   ]
  },
  {
   "cell_type": "code",
   "execution_count": 40,
   "metadata": {},
   "outputs": [
    {
     "ename": "SyntaxError",
     "evalue": "invalid syntax. Perhaps you forgot a comma? (3649648739.py, line 3)",
     "output_type": "error",
     "traceback": [
      "\u001b[1;36m  Cell \u001b[1;32mIn [40], line 3\u001b[1;36m\u001b[0m\n\u001b[1;33m    print(\"Batch Shape:\" images.shape)\u001b[0m\n\u001b[1;37m          ^\u001b[0m\n\u001b[1;31mSyntaxError\u001b[0m\u001b[1;31m:\u001b[0m invalid syntax. Perhaps you forgot a comma?\n"
     ]
    }
   ],
   "source": [
    "images, labels = next(iter(testDataset))\n",
    "\n",
    "print(\"Batch Shape:\" images.shape)\n",
    "print(\"Label Shape:\" labels.shape)"
   ]
  }
 ],
 "metadata": {
  "kernelspec": {
   "display_name": "Python 3.10.5 ('myvenv': venv)",
   "language": "python",
   "name": "python3"
  },
  "language_info": {
   "codemirror_mode": {
    "name": "ipython",
    "version": 3
   },
   "file_extension": ".py",
   "mimetype": "text/x-python",
   "name": "python",
   "nbconvert_exporter": "python",
   "pygments_lexer": "ipython3",
   "version": "3.10.5"
  },
  "orig_nbformat": 4,
  "vscode": {
   "interpreter": {
    "hash": "79b5cd3ca120b11b7865ab84433c216f3dd14561a07c8dc9c4b00ac1d19654f2"
   }
  }
 },
 "nbformat": 4,
 "nbformat_minor": 2
}
